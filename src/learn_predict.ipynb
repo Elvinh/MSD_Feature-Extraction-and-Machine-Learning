{
 "cells": [
  {
   "cell_type": "code",
   "execution_count": 1,
   "metadata": {
    "collapsed": true
   },
   "outputs": [],
   "source": [
    "# Loudness analysis with Kmeans clustering\n",
    "# Created by Elton Vinh and Edward Huang"
   ]
  },
  {
   "cell_type": "code",
   "execution_count": 2,
   "metadata": {
    "collapsed": true
   },
   "outputs": [],
   "source": [
    "import csv\n",
    "\n",
    "import numpy as np\n",
    "from numpy import *\n",
    "\n",
    "from sklearn.cluster import KMeans\n",
    "\n",
    "from mpl_toolkits.mplot3d import Axes3D\n",
    "import matplotlib.pyplot as plt"
   ]
  },
  {
   "cell_type": "code",
   "execution_count": 3,
   "metadata": {
    "collapsed": true
   },
   "outputs": [],
   "source": [
    "# Read the file\n",
    "csvfile = open('msd_loudness_kmeans_dataset.csv', 'rt')"
   ]
  },
  {
   "cell_type": "code",
   "execution_count": 4,
   "metadata": {
    "collapsed": false
   },
   "outputs": [
    {
     "data": {
      "text/plain": [
       "(10001L, 7L)"
      ]
     },
     "execution_count": 4,
     "metadata": {},
     "output_type": "execute_result"
    }
   ],
   "source": [
    "lines = csv.reader(csvfile)\n",
    "dataset = list(lines)\n",
    "array(dataset).shape #verify it's read correctly"
   ]
  },
  {
   "cell_type": "code",
   "execution_count": 5,
   "metadata": {
    "collapsed": false
   },
   "outputs": [
    {
     "data": {
      "text/plain": [
       "array(['title', 'artist', 'loudness', 'peak_loudness', 'avg_max_loudness',\n",
       "       'loudness_diff_averages', 'loudness_labels'], \n",
       "      dtype='|S22')"
      ]
     },
     "execution_count": 5,
     "metadata": {},
     "output_type": "execute_result"
    }
   ],
   "source": [
    "feature_list = array(dataset[0])\n",
    "dataset = dataset[1:]\n",
    "feature_list"
   ]
  },
  {
   "cell_type": "code",
   "execution_count": 6,
   "metadata": {
    "collapsed": true
   },
   "outputs": [],
   "source": [
    "# Splits dataset a more uniform 2:1 split.\n",
    "def splitN(N):\n",
    "    #alternate split by doing 2:1\n",
    "    i = 0\n",
    "    training_set = []\n",
    "    test_set = []\n",
    "    for x in range(10, len(dataset)-1):\n",
    "        if (i % N == 0):\n",
    "            test_set.append(array(dataset[x]))\n",
    "        else:\n",
    "            training_set.append(array(dataset[x]))\n",
    "        i += 1\n",
    "    return(array(training_set), array(test_set))"
   ]
  },
  {
   "cell_type": "code",
   "execution_count": 7,
   "metadata": {
    "collapsed": false
   },
   "outputs": [
    {
     "data": {
      "text/plain": [
       "((6659L, 7L), (3330L, 7L))"
      ]
     },
     "execution_count": 7,
     "metadata": {},
     "output_type": "execute_result"
    }
   ],
   "source": [
    "# Create the training and test sets using the split function\n",
    "training_set,test_set = splitN(3)\n",
    "training_set.shape, test_set.shape"
   ]
  },
  {
   "cell_type": "code",
   "execution_count": 8,
   "metadata": {
    "collapsed": true
   },
   "outputs": [],
   "source": [
    "# Build the input for training\n",
    "def buildX(training_set, feature_list):\n",
    "    X = []\n",
    "    for train in training_set:\n",
    "        data = []\n",
    "\n",
    "        for i in feature_list:\n",
    "            data.append(float(train[i]))\n",
    "\n",
    "        X.append(array(data))\n",
    "    X = array(X)\n",
    "    return X"
   ]
  },
  {
   "cell_type": "code",
   "execution_count": 9,
   "metadata": {
    "collapsed": true
   },
   "outputs": [],
   "source": [
    "# Preprocess output values to determine unique and also re-map to the indices\n",
    "def buildLabels(y):\n",
    "    labels = np.unique(y)\n",
    "    \n",
    "    y_index = []\n",
    "    for label in y:\n",
    "        y_index.append(np.where(labels==label))\n",
    "    return array(labels), array(y_index)"
   ]
  },
  {
   "cell_type": "code",
   "execution_count": 10,
   "metadata": {
    "collapsed": false
   },
   "outputs": [],
   "source": [
    "# Get Predictions for the test data\n",
    "def getPredictionsIndex(clf, start, end):\n",
    "    num_matches = 0\n",
    "    predictions = []\n",
    "\n",
    "    for test, index in zip(X_test, y_test_index):\n",
    "        predicted_ = clf.predict(test)\n",
    "        predictions.append(predicted_[0])\n",
    "        if predicted_[0] == index[0][0]:\n",
    "            num_matches = num_matches + 1\n",
    "    \n",
    "    print(\"Matches: \", num_matches)\n",
    "    print(\"Accuracy: \", num_matches/float(end-start))\n",
    "    return predictions"
   ]
  },
  {
   "cell_type": "code",
   "execution_count": 11,
   "metadata": {
    "collapsed": true
   },
   "outputs": [],
   "source": [
    "# Get the recall score of a genre\n",
    "def getRecall(label, predictions):\n",
    "    fn = 0\n",
    "    tp = 0\n",
    "    i = 0\n",
    "    recall = 0\n",
    "    \n",
    "    actual = test_set[test_start:test_end]\n",
    "   \n",
    "    for prediction in predictions:\n",
    "        act = actual[i][6]\n",
    "        \n",
    "        if prediction != label:\n",
    "            if act == label:\n",
    "                fn += 1\n",
    "        elif act == label:\n",
    "            tp += 1\n",
    "        i += 1\n",
    "\n",
    "    if tp+fn != 0:\n",
    "        recall = tp/float((tp+fn))\n",
    "        # print(\"\\nGenre: \", genre)\n",
    "        # print(\"True positives: \", tp,\"False negatives: \", fn)\n",
    "        # print(\"Recall: \", recall)\n",
    "    return recall"
   ]
  },
  {
   "cell_type": "code",
   "execution_count": 12,
   "metadata": {
    "collapsed": false
   },
   "outputs": [],
   "source": [
    "# Get the precision score of genre\n",
    "def getPrecision(label, predictions):\n",
    "    tp = 0\n",
    "    fp = 0\n",
    "    i = 0\n",
    "    precision = 0\n",
    "    \n",
    "    actual = test_set[test_start:test_end]\n",
    "\n",
    "    for pred in predictions:\n",
    "        act = actual[i][6]\n",
    "        \n",
    "        if act == label:\n",
    "            if pred == act:\n",
    "                tp += 1\n",
    "        elif act != label:\n",
    "            if pred == label:\n",
    "                fp += 1\n",
    "        i += 1\n",
    "    if tp+fp != 0:\n",
    "        # print( \"\\nGenre: \", genre)\n",
    "        # print(\"True positives: \", tp,\"False positives: \", fp)\n",
    "        precision = tp/float((tp+fp))\n",
    "        # print(\"Precision: \", precision)\n",
    "    return precision"
   ]
  },
  {
   "cell_type": "code",
   "execution_count": 13,
   "metadata": {
    "collapsed": false
   },
   "outputs": [],
   "source": [
    "# Prints tabulated results of the machine learning models\n",
    "def printResults(predictions):\n",
    "\n",
    "    print(\"\\n\")\n",
    "    print('%-22s%-6s' % (\"Genre/Algo\", \"KMEANS\"))\n",
    "    for label in test_labels:\n",
    "        print('%-22s%-.2f' % (label, getPrecision(label, predictions)))\n",
    "        print('%-22s%-.2f' % (\"\", getRecall(label, predictions)))"
   ]
  },
  {
   "cell_type": "code",
   "execution_count": 14,
   "metadata": {
    "collapsed": true
   },
   "outputs": [],
   "source": [
    "# Kmeans clustering\n",
    "def getKmeans(X, y):\n",
    "    clf = KMeans(n_clusters=3)\n",
    "    clf.fit(X, y)\n",
    "    \n",
    "    return clf"
   ]
  },
  {
   "cell_type": "code",
   "execution_count": 15,
   "metadata": {
    "collapsed": true
   },
   "outputs": [],
   "source": [
    "# define variables for machine learning\n",
    "feature_list = range(2,5)\n",
    "test_start = 0\n",
    "test_end = 3330\n",
    "train_start = 0\n",
    "train_end = 6659\n",
    "\n",
    "X = buildX(training_set, feature_list)\n",
    "y = training_set[:, 6] # 6 - \"Loudness Labels\"\n",
    "labels, y_index = buildLabels(y)\n",
    "y_index = np.ravel(y_index)\n",
    "\n",
    "X_test = buildX(test_set, feature_list)\n",
    "y_test = test_set[:, 6]\n",
    "test_labels, y_test_index = buildLabels(y_test)"
   ]
  },
  {
   "cell_type": "code",
   "execution_count": 16,
   "metadata": {
    "collapsed": false
   },
   "outputs": [],
   "source": [
    "# Performs Kmeans clustering and prints the statistics of the model. Run more than once f\n",
    "def cluster_print_results():\n",
    "    clfKmeans = getKmeans(X, y_index)\n",
    "    predictionsKmeans_index = getPredictionsIndex(clfKmeans, test_start, test_end)\n",
    "    predictionsKmeans = []\n",
    "    for i in predictionsKmeans_index:\n",
    "        predictionsKmeans.append(test_labels[int(i)])\n",
    "\n",
    "    printResults(predictionsKmeans)"
   ]
  },
  {
   "cell_type": "code",
   "execution_count": 17,
   "metadata": {
    "collapsed": false
   },
   "outputs": [
    {
     "name": "stdout",
     "output_type": "stream",
     "text": [
      "('Matches: ', 1091)\n",
      "('Accuracy: ', 0.32762762762762765)\n",
      "\n",
      "\n",
      "Genre/Algo            KMEANS\n",
      "loud                  0.00\n",
      "                      0.00\n",
      "medium                0.45\n",
      "                      0.45\n",
      "quiet                 1.00\n",
      "                      0.51\n"
     ]
    }
   ],
   "source": [
    "# Run more than once for better results\n",
    "cluster_print_results()"
   ]
  },
  {
   "cell_type": "code",
   "execution_count": 18,
   "metadata": {
    "collapsed": false
   },
   "outputs": [],
   "source": [
    "def show_2d_graph():\n",
    "    y_pred = KMeans(n_clusters=3).fit_predict(X_test)\n",
    "\n",
    "    plt.scatter(X_test[:,0], X_test[:,1], c=y_pred)\n",
    "    plt.title(\"Clusters\")\n",
    "    plt.scatter(X_test[:,0], X_test[:,1], c=y_test_index)\n",
    "    plt.title(\"Input\")\n",
    "    plt.show()"
   ]
  },
  {
   "cell_type": "code",
   "execution_count": 19,
   "metadata": {
    "collapsed": false
   },
   "outputs": [
    {
     "name": "stderr",
     "output_type": "stream",
     "text": [
      "C:\\Users\\Elton\\Anaconda2\\lib\\site-packages\\matplotlib\\collections.py:590: FutureWarning: elementwise comparison failed; returning scalar instead, but in the future will perform elementwise comparison\n",
      "  if self._edgecolors == str('face'):\n"
     ]
    }
   ],
   "source": [
    "show_2d_graph()"
   ]
  },
  {
   "cell_type": "code",
   "execution_count": 20,
   "metadata": {
    "collapsed": false
   },
   "outputs": [],
   "source": [
    "def show_3d_graph():\n",
    "    print(__doc__)\n",
    "\n",
    "    np.random.seed(5)\n",
    "\n",
    "    centers = [[1, 1], [-1, -1], [1, -1]]\n",
    "\n",
    "    X = X_test\n",
    "    y = y_test_index\n",
    "    y = np.ravel(y)\n",
    "    estimators = {'k_means_iris_3': KMeans(n_clusters=3)}\n",
    "\n",
    "    fignum = 1\n",
    "    for name, est in estimators.items():\n",
    "        fig = plt.figure(fignum, figsize=(4, 3))\n",
    "        plt.clf()\n",
    "        ax = Axes3D(fig, rect=[0, 0, .95, 1], elev=48, azim=134)\n",
    "\n",
    "        plt.cla()\n",
    "        est.fit(X)\n",
    "        labels = est.labels_\n",
    "\n",
    "        ax.scatter(X[:, 0], X[:, 1], X[:, 2], c=labels.astype(np.float))\n",
    "\n",
    "        ax.w_xaxis.set_ticklabels([])\n",
    "        ax.w_yaxis.set_ticklabels([])\n",
    "        ax.w_zaxis.set_ticklabels([])\n",
    "        ax.set_xlabel('loudness')\n",
    "        ax.set_ylabel('peak_loudness')\n",
    "        ax.set_zlabel('avg_max_loudness')\n",
    "        fignum = fignum + 1\n",
    "\n",
    "    # Plot the ground truth\n",
    "    fig = plt.figure(fignum, figsize=(4, 3))\n",
    "    plt.clf()\n",
    "    ax = Axes3D(fig, rect=[0, 0, .95, 1], elev=48, azim=134)\n",
    "\n",
    "    plt.cla()\n",
    "\n",
    "    for name, label in [('Loud', 0),\n",
    "                        ('Medium', 1),\n",
    "                        ('Quiet', 2)]:\n",
    "        ax.text3D(X[y == label, 0].mean(),\n",
    "                  X[y == label, 1].mean() + 1.5,\n",
    "                  X[y == label, 2].mean(), name,\n",
    "                  horizontalalignment='center',\n",
    "                  bbox=dict(alpha=.5, edgecolor='w', facecolor='w'))\n",
    "    # Reorder the labels to have colors matching the cluster results\n",
    "    y = np.choose(y, [1, 2, 0]).astype(np.float)\n",
    "    ax.scatter(X[:, 0], X[:, 1], X[:, 2], c=y)\n",
    "\n",
    "    ax.w_xaxis.set_ticklabels([])\n",
    "    ax.w_yaxis.set_ticklabels([])\n",
    "    ax.w_zaxis.set_ticklabels([])\n",
    "    ax.set_xlabel('Loudness')\n",
    "    ax.set_ylabel('peak_loudness')\n",
    "    ax.set_zlabel('avg_max_loudness')\n",
    "    plt.show()"
   ]
  },
  {
   "cell_type": "code",
   "execution_count": 21,
   "metadata": {
    "collapsed": false
   },
   "outputs": [
    {
     "name": "stdout",
     "output_type": "stream",
     "text": [
      "Automatically created module for IPython interactive environment\n"
     ]
    }
   ],
   "source": [
    "show_3d_graph()"
   ]
  },
  {
   "cell_type": "code",
   "execution_count": 22,
   "metadata": {
    "collapsed": false
   },
   "outputs": [],
   "source": [
    "# Kmeans with 2 clusters, attempt at finding clipped vs unclipped\n",
    "def two_cluster_kmeans():\n",
    "    # Run the steps.\n",
    "    feature_list = range(2,6)\n",
    "\n",
    "    X = buildX(training_set, feature_list)\n",
    "    y = training_set[:, 6] # Choose 2 for artist name for output, 0 for genre\n",
    "    labels, y_index = buildLabels(y)\n",
    "    y_index = np.ravel(y_index)\n",
    "\n",
    "    X_test = buildX(test_set, feature_list)\n",
    "    y_test = test_set[:, 6]\n",
    "    x_labels, y_test_index = buildLabels(y_test)\n",
    "\n",
    "    clf = KMeans(n_clusters=2)\n",
    "    clf.fit(X)\n",
    "\n",
    "    predictions = []\n",
    "    for test in X_test:\n",
    "            predicted_ = clf.predict(array(test))\n",
    "            predictions.append(predicted_[0])\n",
    "\n",
    "    plt.scatter(X_test[:,0], X_test[:,1], c=predictions)\n",
    "    plt.title(\"Clusters\")\n",
    "    plt.show()"
   ]
  },
  {
   "cell_type": "code",
   "execution_count": 23,
   "metadata": {
    "collapsed": true
   },
   "outputs": [],
   "source": [
    "two_cluster_kmeans()"
   ]
  },
  {
   "cell_type": "code",
   "execution_count": null,
   "metadata": {
    "collapsed": true
   },
   "outputs": [],
   "source": []
  }
 ],
 "metadata": {
  "kernelspec": {
   "display_name": "Python 2",
   "language": "python",
   "name": "python2"
  },
  "language_info": {
   "codemirror_mode": {
    "name": "ipython",
    "version": 2
   },
   "file_extension": ".py",
   "mimetype": "text/x-python",
   "name": "python",
   "nbconvert_exporter": "python",
   "pygments_lexer": "ipython2",
   "version": "2.7.10"
  }
 },
 "nbformat": 4,
 "nbformat_minor": 0
}
