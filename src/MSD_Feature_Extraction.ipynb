{
 "cells": [
  {
   "cell_type": "code",
   "execution_count": 1,
   "metadata": {
    "collapsed": true
   },
   "outputs": [],
   "source": [
    "# Feature extraction from MSD\n",
    "# Creates CSV files.\n",
    "# Created by Elton Vinh"
   ]
  },
  {
   "cell_type": "code",
   "execution_count": 2,
   "metadata": {
    "collapsed": true
   },
   "outputs": [],
   "source": [
    "import csv\n",
    "import numpy as np\n",
    "from numpy import *\n",
    "import os\n",
    "import glob\n",
    "import hdf5_getters"
   ]
  },
  {
   "cell_type": "code",
   "execution_count": 3,
   "metadata": {
    "collapsed": true
   },
   "outputs": [],
   "source": [
    "#features extracted: song title, artist, genre, loudness, segments starts, segements loudness max, loudness max\n",
    "def get_all_titles(basedir,ext='.h5') :\n",
    "    titles = []\n",
    "    artist_names = []\n",
    "    terms = []\n",
    "    loudness = []\n",
    "    segments_loudness_max = []\n",
    "    \n",
    "    for root, dirs, files in os.walk(basedir):\n",
    "        files = glob.glob(os.path.join(root,'*'+ext))\n",
    "        for f in files:\n",
    "            h5 = hdf5_getters.open_h5_file_read(f)\n",
    "            \n",
    "            titles.append(hdf5_getters.get_title(h5)) \n",
    "            artist_names.append(hdf5_getters.get_artist_name(h5))\n",
    "            try:\n",
    "                terms.append(hdf5_getters.get_artist_terms(h5))\n",
    "            except:          \n",
    "                pass\n",
    "            loudness.append(hdf5_getters.get_loudness(h5))\n",
    "            try:\n",
    "                segments_loudness_max.append(hdf5_getters.get_segments_loudness_max(h5))\n",
    "            except:              \n",
    "                pass\n",
    "                        \n",
    "            h5.close()\n",
    "    return titles, artist_names, terms, loudness, segments_loudness_max"
   ]
  },
  {
   "cell_type": "code",
   "execution_count": 4,
   "metadata": {
    "collapsed": false
   },
   "outputs": [],
   "source": [
    "# extracts features from MSD, takes a long time\n",
    "titles, artist_names, terms, loudness, segments_loudness_max = get_all_titles(\"MillionSongSubset\")"
   ]
  },
  {
   "cell_type": "code",
   "execution_count": 5,
   "metadata": {
    "collapsed": true
   },
   "outputs": [],
   "source": [
    "# takes extracted features and writes to csv file\n",
    "with open('msd_loudness.csv', 'wb') as csvfile:\n",
    "    csvfile.write(\"title,artist,loudness,segments_loudness_max\\n\")\n",
    "    for title, artist, loud, seg_loud in zip(titles[1:], artist_names[1:], loudness[1:], segments_loudness_max):\n",
    "        csvfile.write(title + \",\" + artist + \",\" + '%f' % (loud))\n",
    "        for segment in seg_loud:\n",
    "            csvfile.write(\",\" + '%s' % (segment))\n",
    "        csvfile.write(\"\\n\")       "
   ]
  },
  {
   "cell_type": "code",
   "execution_count": 6,
   "metadata": {
    "collapsed": true
   },
   "outputs": [],
   "source": [
    "# Read the file\n",
    "csvfile = open('msd_loudness.csv', 'rt')"
   ]
  },
  {
   "cell_type": "code",
   "execution_count": 7,
   "metadata": {
    "collapsed": false
   },
   "outputs": [
    {
     "data": {
      "text/plain": [
       "(10001L,)"
      ]
     },
     "execution_count": 7,
     "metadata": {},
     "output_type": "execute_result"
    }
   ],
   "source": [
    "lines = csv.reader(csvfile)\n",
    "dataset1 = list(lines)\n",
    "array(dataset1).shape #verify it's read correctly"
   ]
  },
  {
   "cell_type": "code",
   "execution_count": 8,
   "metadata": {
    "collapsed": false
   },
   "outputs": [
    {
     "data": {
      "text/plain": [
       "array(['title', 'artist', 'loudness', 'segments_loudness_max'], \n",
       "      dtype='|S21')"
      ]
     },
     "execution_count": 8,
     "metadata": {},
     "output_type": "execute_result"
    }
   ],
   "source": [
    "# Extract feature names\n",
    "feature_list = array(dataset1[0])\n",
    "dataset1 = dataset1[1:]\n",
    "feature_list"
   ]
  },
  {
   "cell_type": "code",
   "execution_count": 9,
   "metadata": {
    "collapsed": true
   },
   "outputs": [],
   "source": [
    "# peak loudness - average loudness\n",
    "def segment_avg_max_loudness(data_set):\n",
    "    avg_maxes = []\n",
    "    \n",
    "    for track in data_set:\n",
    "        summ = 0\n",
    "        number_of_segments = 0\n",
    "        track_segments = track[3:]\n",
    "        \n",
    "        for loudness_max in track_segments:\n",
    "            if float(loudness_max) > -50:\n",
    "                summ = summ + float(loudness_max)\n",
    "                number_of_segments = number_of_segments + 1\n",
    "        avg_maxes.append(summ/number_of_segments)\n",
    "    return avg_maxes"
   ]
  },
  {
   "cell_type": "code",
   "execution_count": 10,
   "metadata": {
    "collapsed": false
   },
   "outputs": [],
   "source": [
    "# Max loudness of all segments\n",
    "def findMaxLoudness(data_set):\n",
    "    max_loudness = []\n",
    "    \n",
    "    for track in data_set:\n",
    "        maxi = -60.00\n",
    "        segments = track[3:]\n",
    "        for peak in segments:\n",
    "            if(float(maxi) < float(peak)):\n",
    "                maxi = peak\n",
    "        max_loudness.append(float(maxi))\n",
    "        \n",
    "    return max_loudness"
   ]
  },
  {
   "cell_type": "code",
   "execution_count": 11,
   "metadata": {
    "collapsed": true
   },
   "outputs": [],
   "source": [
    "def label_loudness(data_set):\n",
    "    loudness_labels = []\n",
    "    for track in data_set:\n",
    "        db = float(track[2])\n",
    "        \n",
    "        if db > -7:\n",
    "            loudness_labels.append(\"loud\")\n",
    "        elif db < -15:\n",
    "            loudness_labels.append(\"quiet\")\n",
    "        else:\n",
    "            loudness_labels.append(\"medium\")\n",
    "            \n",
    "    return loudness_labels"
   ]
  },
  {
   "cell_type": "code",
   "execution_count": 12,
   "metadata": {
    "collapsed": false
   },
   "outputs": [],
   "source": [
    "# peak loudness - average loudness\n",
    "def loudnessDiff(data_set):\n",
    "    loudnessDiffAvgs = []\n",
    "    for track in data_set:\n",
    "        segments = track[3:]\n",
    "        summ = 0\n",
    "        diff = 0\n",
    "        totalSegments = 0\n",
    "        for segment in segments:\n",
    "            if (float(segment) > -50):\n",
    "                diff = float(segment) - float(track[2])\n",
    "                summ = summ + diff\n",
    "                totalSegments = totalSegments + 1\n",
    "        avg = summ/totalSegments\n",
    "        loudnessDiffAvgs.append(avg)\n",
    "    return loudnessDiffAvgs"
   ]
  },
  {
   "cell_type": "code",
   "execution_count": 13,
   "metadata": {
    "collapsed": false
   },
   "outputs": [],
   "source": [
    "avg_max_loudness = segment_avg_max_loudness(dataset1)\n",
    "max_loudness = findMaxLoudness(dataset1)\n",
    "loudness_labels = label_loudness(dataset1)\n",
    "loudness_diff_averages = loudnessDiff(dataset1)"
   ]
  },
  {
   "cell_type": "code",
   "execution_count": 14,
   "metadata": {
    "collapsed": false
   },
   "outputs": [],
   "source": [
    "# takes extracted features and writes to csv file\n",
    "with open('msd_loudness_kmeans_dataset.csv', 'wb') as csvfile:\n",
    "    csvfile.write(\"title,artist,loudness,peak_loudness,avg_max_loudness,loudness_diff_averages,loudness_labels\\n\")\n",
    "    for track, max_loud, avg_max_loud, loud_diff_avg, label in zip(dataset1, max_loudness, avg_max_loudness, loudness_diff_averages, loudness_labels):\n",
    "        csvfile.write(track[0] + \",\" + track[1] + \",\" + track[2] + \",\" \n",
    "                      + '%.3f,%.3f,%.3f' % (max_loud,avg_max_loud,loud_diff_avg) + \",\" + label + \"\\n\")"
   ]
  },
  {
   "cell_type": "code",
   "execution_count": null,
   "metadata": {
    "collapsed": true
   },
   "outputs": [],
   "source": []
  }
 ],
 "metadata": {
  "kernelspec": {
   "display_name": "Python 2",
   "language": "python",
   "name": "python2"
  },
  "language_info": {
   "codemirror_mode": {
    "name": "ipython",
    "version": 2
   },
   "file_extension": ".py",
   "mimetype": "text/x-python",
   "name": "python",
   "nbconvert_exporter": "python",
   "pygments_lexer": "ipython2",
   "version": "2.7.10"
  }
 },
 "nbformat": 4,
 "nbformat_minor": 0
}
